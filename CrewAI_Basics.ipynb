{
  "nbformat": 4,
  "nbformat_minor": 0,
  "metadata": {
    "colab": {
      "provenance": [],
      "include_colab_link": true
    },
    "kernelspec": {
      "name": "python3",
      "display_name": "Python 3"
    },
    "language_info": {
      "name": "python"
    }
  },
  "cells": [
    {
      "cell_type": "markdown",
      "metadata": {
        "id": "view-in-github",
        "colab_type": "text"
      },
      "source": [
        "<a href=\"https://colab.research.google.com/github/rohitreddynagareddy/132test/blob/master/CrewAI_Basics.ipynb\" target=\"_parent\"><img src=\"https://colab.research.google.com/assets/colab-badge.svg\" alt=\"Open In Colab\"/></a>"
      ]
    },
    {
      "cell_type": "markdown",
      "source": [
        "![CrewAI](https://miro.medium.com/v2/resize:fit:1400/0*-7HC-GJCxjn-Dm7i.png)\n",
        "\n"
      ],
      "metadata": {
        "id": "NIOdYiJBGmCQ"
      }
    },
    {
      "cell_type": "markdown",
      "source": [
        "### Phase 1: Introduction & Fundamentals\n",
        "\n",
        "[CrewAI Official Dumentation](https://docs.crewai.com/introduction)\n",
        "\n",
        "Topics to Discuss Here\n",
        "\n",
        "\n",
        "1.   Crew\n",
        "2.   Agents\n",
        "3.   Tasks\n",
        "4.   LLM\n",
        "5.   Tools\n",
        "\n"
      ],
      "metadata": {
        "id": "8M4dbVGHBD7V"
      }
    },
    {
      "cell_type": "markdown",
      "source": [],
      "metadata": {
        "id": "y0omiFRqGLtJ"
      }
    },
    {
      "cell_type": "markdown",
      "source": [
        "### Phase 2: Setting Up & Basic Agent Implementation"
      ],
      "metadata": {
        "id": "BeBf7JjtGMwM"
      }
    },
    {
      "cell_type": "code",
      "execution_count": null,
      "metadata": {
        "id": "eAz48JIHN_Dd"
      },
      "outputs": [],
      "source": [
        "# Step 1: Install CrewAI\n",
        "!pip install -q crewai"
      ]
    },
    {
      "cell_type": "code",
      "source": [
        "!pip show crewai"
      ],
      "metadata": {
        "colab": {
          "base_uri": "https://localhost:8080/"
        },
        "id": "8SU12ytQByB0",
        "outputId": "52b8ea34-6a48-42e9-9a67-9d4cbfd3a48f"
      },
      "execution_count": null,
      "outputs": [
        {
          "output_type": "stream",
          "name": "stdout",
          "text": [
            "Name: crewai\n",
            "Version: 0.108.0\n",
            "Summary: Cutting-edge framework for orchestrating role-playing, autonomous AI agents. By fostering collaborative intelligence, CrewAI empowers agents to work together seamlessly, tackling complex tasks.\n",
            "Home-page: https://crewai.com\n",
            "Author: \n",
            "Author-email: Joao Moura <joao@crewai.com>\n",
            "License: \n",
            "Location: /usr/local/lib/python3.11/dist-packages\n",
            "Requires: appdirs, auth0-python, blinker, chromadb, click, instructor, json-repair, json5, jsonref, litellm, openai, openpyxl, opentelemetry-api, opentelemetry-exporter-otlp-proto-http, opentelemetry-sdk, pdfplumber, pydantic, python-dotenv, pyvis, regex, tomli, tomli-w, uv\n",
            "Required-by: \n"
          ]
        }
      ]
    },
    {
      "cell_type": "markdown",
      "source": [
        "### API Check"
      ],
      "metadata": {
        "id": "MJxm6BQCF2RR"
      }
    },
    {
      "cell_type": "code",
      "source": [
        "!pip install -Uq openai"
      ],
      "metadata": {
        "id": "qPN9X_SGIG4c"
      },
      "execution_count": null,
      "outputs": []
    },
    {
      "cell_type": "code",
      "source": [
        "import os\n",
        "from google.colab import userdata\n",
        "from openai import OpenAI\n",
        "\n",
        "api_key = userdata.get('OPENAI_API_KEY')\n",
        "\n",
        "if api_key:\n",
        "  os.environ[\"OPENAI_API_KEY\"] = api_key\n",
        "  print(\"API key loaded from userdata.\")\n",
        "else:\n",
        "  print(\"API key not found in userdata. Please set OPENAI_API_KEY in userdata.\")\n",
        "\n",
        "################## OPENAI API CHECK ############################\n",
        "\n",
        "\n",
        "client = OpenAI(\n",
        "    api_key=os.environ.get(\"OPENAI_API_KEY\"),\n",
        ")\n",
        "\n",
        "response = client.responses.create(\n",
        "    model=\"gpt-4o\",\n",
        "    instructions=\"You are a coding assistant that talks like a pirate.\",\n",
        "    input=\"How do I check if a Python object is an instance of a class?\",\n",
        ")\n",
        "\n",
        "print(response.output_text)"
      ],
      "metadata": {
        "colab": {
          "base_uri": "https://localhost:8080/"
        },
        "id": "Ea-hMUBVFshw",
        "outputId": "985cf541-4ff3-47b5-dd36-7f3b514eddf4"
      },
      "execution_count": null,
      "outputs": [
        {
          "output_type": "stream",
          "name": "stdout",
          "text": [
            "API key loaded from userdata.\n",
            "Arrr, ye can use the `isinstance()` function to see if an object be an instance of a class in Python. The syntax be as follows:\n",
            "\n",
            "```python\n",
            "if isinstance(obj, ClassName):\n",
            "    # Do somethin'\n",
            "```\n",
            "\n",
            "This will return `True` if `obj` be an instance of `ClassName`, or any subclass thereof.\n"
          ]
        }
      ]
    },
    {
      "cell_type": "markdown",
      "source": [
        "# Optional LLMS"
      ],
      "metadata": {
        "id": "tc1dcDQljJZc"
      }
    },
    {
      "cell_type": "code",
      "source": [
        "from crewai import LLM\n",
        "\n",
        "# Basic configuration\n",
        "llm = LLM(model=\"gpt-4\")\n",
        "\n",
        "# Advanced configuration with detailed parameters\n",
        "llm = LLM(\n",
        "    model=\"gpt-4o-mini\",\n",
        "    temperature=0.7,        # Higher for more creative outputs\n",
        "    timeout=120,           # Seconds to wait for response\n",
        "    max_tokens=4000,       # Maximum length of response\n",
        "    top_p=0.9,            # Nucleus sampling parameter\n",
        "    frequency_penalty=0.1, # Reduce repetition\n",
        "    presence_penalty=0.1,  # Encourage topic diversity\n",
        "    response_format={\"type\": \"json\"},  # For structured outputs\n",
        "    seed=42               # For reproducible results\n",
        ")\n",
        "\n",
        "# GROQ\n",
        "llm = LLM(\n",
        "    model=\"groq/llama-3.2-90b-text-preview\",\n",
        "    temperature=0.7\n",
        ")\n",
        "\n",
        "# OLLAMA\n",
        "llm = LLM(\n",
        "    model=\"ollama/llama3:70b\",\n",
        "    base_url=\"http://localhost:11434\"\n",
        ")"
      ],
      "metadata": {
        "id": "xHep5-IgjI7w"
      },
      "execution_count": null,
      "outputs": []
    },
    {
      "cell_type": "code",
      "source": [
        "# Step 2: Import necessary libraries\n",
        "from crewai import Agent, Task, Crew"
      ],
      "metadata": {
        "id": "7wXeSddaALeC"
      },
      "execution_count": null,
      "outputs": []
    },
    {
      "cell_type": "code",
      "source": [
        "# Step 3: Define a simple agent\n",
        "agent1 = Agent(\n",
        "    name=\"Researcher\",\n",
        "    description=\"An AI agent that researches and gathers information.\",\n",
        "    goal=\"Find relevant information on a given topic.\",\n",
        "    role=\"Researcher\", # Added role\n",
        "    backstory=\"An AI assistant designed for research tasks.\"  # Added backstory\n",
        ")"
      ],
      "metadata": {
        "id": "r7wXZzwSALNy"
      },
      "execution_count": null,
      "outputs": []
    },
    {
      "cell_type": "code",
      "source": [
        "# Step 4: Create a simple task\n",
        "research_task = Task(\n",
        "    name=\"Research Task\",\n",
        "    description=\"Search for the latest advancements in AI and summarize them.\",\n",
        "    agent=agent1,\n",
        "    expected_output=\"A summary of the latest advancements in AI\" # Added expected output\n",
        ")"
      ],
      "metadata": {
        "id": "kT2KkzO9ALKN"
      },
      "execution_count": null,
      "outputs": []
    },
    {
      "cell_type": "code",
      "source": [
        "# Step 5: Initialize a crew (single agent for now)\n",
        "crew = Crew(agents=[agent1], tasks=[research_task])\n",
        "crew.kickoff()"
      ],
      "metadata": {
        "colab": {
          "base_uri": "https://localhost:8080/"
        },
        "id": "Dq7H787KALG3",
        "outputId": "ce9ff329-5c28-45f8-9635-ffe608c4a2f0"
      },
      "execution_count": null,
      "outputs": [
        {
          "output_type": "execute_result",
          "data": {
            "text/plain": [
              "CrewOutput(raw=\"As of October 2023, notable advancements in artificial intelligence (AI) continue to reshape various fields, driven by improvements in algorithms, computing power, and data availability. Below is a summary of the most significant developments:\\n\\n1. **Generative AI**: The field of generative AI has skyrocketed, with models such as OpenAI's GPT-4 and advancements in diffusion models driving creative applications. These models have shown a remarkable ability to create text, images, and even videos, leading to innovative tools for content creation in industries like marketing, entertainment, and education.\\n\\n2. **AI in Healthcare**: Significant advancements have been made in using AI for diagnostics, treatment planning, and personalized medicine. New algorithms have demonstrated higher accuracy in early detection of diseases such as cancer through medical imaging analysis. AI-powered platforms are enabling drug discovery processes to become faster and more efficient, reducing the time it takes to bring new medications to market.\\n\\n3. **Natural Language Processing (NLP)**: Continuous improvements in NLP capabilities have allowed for more sophisticated conversational agents and virtual assistants. The latest models can understand context more deeply, resulting in interactions that feel more natural. This has enhanced applications in customer service and mental health support, where AI can provide empathetic interactions.\\n\\n4. **AI Ethics and Regulation**: As AI technology expands, so does the conversation around ethics and regulations. The AI community has made strides in developing frameworks that address issues like bias, transparency, and accountability in AI systems. Governments and organizations are beginning to establish guidelines to ensure responsible use of AI technologies.\\n\\n5. **AI in Robotics**: Robots equipped with advanced AI algorithms have started to excel in complex environments, such as homes, warehouses, and healthcare facilities. Developments in reinforcement learning and computer vision are allowing robots to learn from their surroundings and perform tasks autonomously, pushing the boundaries of automation.\\n\\n6. **AI and Climate Change**: AI is increasingly recognized as a powerful tool in the fight against climate change. Innovations in AI are helping to optimize energy usage, predict climate patterns, and enhance sustainable practices across industries. For instance, AI systems are being deployed to manage resources more efficiently in agriculture, reducing waste and improving crop yields.\\n\\n7. **AI-Powered Design and Development Tools**: New tools harnessing AI are transforming software development and design processes. Platforms that automate coding, testing, and debugging are accelerating project timelines, while design tools that suggest layouts and aesthetics are allowing for faster prototyping and iteration.\\n\\n8. **Quantum AI**: Although still in its nascent stages, the intersection of quantum computing and AI holds significant promise. Research is beginning to reveal how quantum algorithms could potentially process data at unprecedented speeds, opening new avenues for solving complex problems that traditional computing struggles with.\\n\\nThese advancements illustrate the transformative power of AI across diverse sectors, emphasizing its potential to enhance productivity, creativity, and sustainability while addressing ethical considerations and challenges associated with its rapid growth.\", pydantic=None, json_dict=None, tasks_output=[TaskOutput(description='Search for the latest advancements in AI and summarize them.', name='Research Task', expected_output='A summary of the latest advancements in AI', summary='Search for the latest advancements in AI and summarize them....', raw=\"As of October 2023, notable advancements in artificial intelligence (AI) continue to reshape various fields, driven by improvements in algorithms, computing power, and data availability. Below is a summary of the most significant developments:\\n\\n1. **Generative AI**: The field of generative AI has skyrocketed, with models such as OpenAI's GPT-4 and advancements in diffusion models driving creative applications. These models have shown a remarkable ability to create text, images, and even videos, leading to innovative tools for content creation in industries like marketing, entertainment, and education.\\n\\n2. **AI in Healthcare**: Significant advancements have been made in using AI for diagnostics, treatment planning, and personalized medicine. New algorithms have demonstrated higher accuracy in early detection of diseases such as cancer through medical imaging analysis. AI-powered platforms are enabling drug discovery processes to become faster and more efficient, reducing the time it takes to bring new medications to market.\\n\\n3. **Natural Language Processing (NLP)**: Continuous improvements in NLP capabilities have allowed for more sophisticated conversational agents and virtual assistants. The latest models can understand context more deeply, resulting in interactions that feel more natural. This has enhanced applications in customer service and mental health support, where AI can provide empathetic interactions.\\n\\n4. **AI Ethics and Regulation**: As AI technology expands, so does the conversation around ethics and regulations. The AI community has made strides in developing frameworks that address issues like bias, transparency, and accountability in AI systems. Governments and organizations are beginning to establish guidelines to ensure responsible use of AI technologies.\\n\\n5. **AI in Robotics**: Robots equipped with advanced AI algorithms have started to excel in complex environments, such as homes, warehouses, and healthcare facilities. Developments in reinforcement learning and computer vision are allowing robots to learn from their surroundings and perform tasks autonomously, pushing the boundaries of automation.\\n\\n6. **AI and Climate Change**: AI is increasingly recognized as a powerful tool in the fight against climate change. Innovations in AI are helping to optimize energy usage, predict climate patterns, and enhance sustainable practices across industries. For instance, AI systems are being deployed to manage resources more efficiently in agriculture, reducing waste and improving crop yields.\\n\\n7. **AI-Powered Design and Development Tools**: New tools harnessing AI are transforming software development and design processes. Platforms that automate coding, testing, and debugging are accelerating project timelines, while design tools that suggest layouts and aesthetics are allowing for faster prototyping and iteration.\\n\\n8. **Quantum AI**: Although still in its nascent stages, the intersection of quantum computing and AI holds significant promise. Research is beginning to reveal how quantum algorithms could potentially process data at unprecedented speeds, opening new avenues for solving complex problems that traditional computing struggles with.\\n\\nThese advancements illustrate the transformative power of AI across diverse sectors, emphasizing its potential to enhance productivity, creativity, and sustainability while addressing ethical considerations and challenges associated with its rapid growth.\", pydantic=None, json_dict=None, agent='Researcher', output_format=<OutputFormat.RAW: 'raw'>)], token_usage=UsageMetrics(total_tokens=0, prompt_tokens=0, cached_prompt_tokens=0, completion_tokens=0, successful_requests=0))"
            ]
          },
          "metadata": {},
          "execution_count": 20
        }
      ]
    },
    {
      "cell_type": "markdown",
      "source": [
        "### Phase 3: Multi-Agent Collaboration & Workflows"
      ],
      "metadata": {
        "id": "NaaI8UaGFl57"
      }
    },
    {
      "cell_type": "code",
      "source": [
        "# Step 6: Define multiple agents\n",
        "agent2 = Agent(\n",
        "    name=\"Writer\",\n",
        "    description=\"An AI agent that writes research reports.\",\n",
        "    goal=\"Create structured reports from gathered research data.\",\n",
        "    role=\"Writer\",  # Added role\n",
        "    backstory=\"An AI assistant designed for writing reports.\"  # Added backstory\n",
        ")\n",
        "\n",
        "agent3 = Agent(\n",
        "    name=\"Reviewer\",\n",
        "    description=\"An AI agent that reviews and refines reports.\",\n",
        "    goal=\"Ensure clarity, grammar, and accuracy in written content.\",\n",
        "    role=\"Reviewer\",  # Added role\n",
        "    backstory=\"An AI assistant designed for reviewing reports.\"  # Added backstory\n",
        ")\n"
      ],
      "metadata": {
        "id": "9lBxZ5wIALA-"
      },
      "execution_count": null,
      "outputs": []
    },
    {
      "cell_type": "code",
      "source": [
        "# Step 7: Assign tasks to each agent\n",
        "gather_info = Task(\n",
        "    name=\"Gather Information\",\n",
        "    description=\"Find the latest research papers and summarize key findings.\",\n",
        "    agent=agent1,\n",
        "    expected_output=\"A summary of key findings from recent research papers.\"  # Added expected output\n",
        ")\n",
        "\n",
        "write_report = Task(\n",
        "    name=\"Write Research Report\",\n",
        "    description=\"Use summarized research to create a structured report.\",\n",
        "    agent=agent2,\n",
        "    expected_output=\"A structured research report based on the summarized findings.\"  # Added expected output\n",
        ")\n",
        "\n",
        "review_report = Task(\n",
        "    name=\"Review Report\",\n",
        "    description=\"Check the report for accuracy and clarity.\",\n",
        "    agent=agent3,\n",
        "    expected_output=\"A reviewed and refined research report.\"  # Added expected output\n",
        ")"
      ],
      "metadata": {
        "id": "AwrvWipdAK9u"
      },
      "execution_count": null,
      "outputs": []
    },
    {
      "cell_type": "code",
      "source": [
        "# Step 8: Create a Crew with multiple agents\n",
        "multi_agent_crew = Crew(\n",
        "    agents=[agent1, agent2, agent3],\n",
        "    tasks=[gather_info, write_report, review_report]\n",
        ")\n",
        "\n",
        "multi_agent_crew.kickoff()"
      ],
      "metadata": {
        "colab": {
          "base_uri": "https://localhost:8080/"
        },
        "id": "TF10S9-JA9zX",
        "outputId": "7dddb948-ba13-4fa6-de73-d7c3c1f0c285"
      },
      "execution_count": null,
      "outputs": [
        {
          "output_type": "execute_result",
          "data": {
            "text/plain": [
              "CrewOutput(raw=\"**Structured Research Report based on Summarized Findings (2023)**\\n\\n**1. Introduction**  \\nThis report summarizes key findings from recent research published in 2023, highlighting advancements in technology, climate change impacts, healthcare innovations, sustainable energy solutions, and mental health concerns related to social media usage. Each study presents significant implications for their respective domains, offering insights into challenges and future directions.\\n\\n**2. Advancements in Quantum Computing Algorithms**  \\n- **Authors:** Smith, J. et al.  \\n- **Publication:** Journal of Quantum Computing  \\n- **Findings:**  \\n  The paper details the development of new quantum algorithms that enhance computational efficiency. A novel algorithm is proposed, which significantly reduces the time complexity of quantum search problems, facilitating faster processing of large datasets.  \\n- **Implications:**  \\n  This breakthrough has the potential to transform essential fields such as cryptography and drug discovery by enabling more complex calculations, thus leading to advancements in security protocols and pharmaceutical development.\\n\\n**3. The Impact of Climate Change on Global Biodiversity**  \\n- **Authors:** Johnson, L. & Wang, H.  \\n- **Publication:** Ecology and Environment  \\n- **Findings:**  \\n  The research evaluates the effects of climate change on species survival rates, demonstrating that rising temperatures and altered precipitation patterns contribute to a notable decline in biodiversity, particularly affecting amphibian species.  \\n- **Conservation Strategies:**  \\n  The authors recommend strategies centered on habitat preservation and restoration to counteract these detrimental effects, emphasizing the urgency of proactive intervention in conservation efforts.\\n\\n**4. Artificial Intelligence in Healthcare: Transformations and Challenges**  \\n- **Authors:** Lee, M. et al.  \\n- **Publication:** Health Informatics Journal  \\n- **Findings:**  \\n  This study investigates the integration of AI technologies in healthcare, identifying impressive improvements in diagnostic accuracy and patient outcomes. However, it also highlights ethical challenges, including data privacy concerns and the necessity for proper regulatory frameworks.  \\n- **Recommendations:**  \\n  The authors suggest fostering interdisciplinary collaboration to maximize AI's implementation benefits while addressing ethical dilemmas, thus ensuring safe and effective healthcare solutions.\\n\\n**5. Nanotechnology for Sustainable Energy Solutions**  \\n- **Authors:** Patel, R. & Kim, S.  \\n- **Publication:** International Journal of Energy Research  \\n- **Findings:**  \\n  The research reviews advancements in nanotechnology aimed at improving energy efficiency and promoting sustainability. Notably, new nanomaterials have been developed to enhance solar energy conversion rates by increasing light absorption surface area.  \\n- **Potential Implications:**  \\n  These advancements can significantly influence renewable energy technologies, leading to more efficient and sustainable energy solutions.\\n\\n**6. Mental Health in Adolescents: Effects of Social Media Usage**  \\n- **Authors:** Garcia, T. & Liu, P.  \\n- **Publication:** Journal of Adolescent Health  \\n- **Findings:**  \\n  This study explores the relationship between social media usage and mental health among adolescents, revealing a correlation where excessive engagement with social media is linked to heightened levels of anxiety and depression.  \\n- **Advocacy for Educational Programs:**  \\n  The authors advocate for programs that educate youth on healthy social media habits, aiming to mitigate the negative mental health impacts associated with social media.\\n\\n**7. Conclusion**  \\nThe findings presented in these studies reflect critical advancements and challenges across various fields. From the transformative potential of quantum computing and AI in healthcare to the urgent conservation needs amid climate change and the mental health implications of social media, ongoing research is crucial for addressing contemporary issues and guiding future innovations. These insights not only underscore the complexities of current challenges but also pave the way for strategic developments that could improve societal well-being and technological progress.\", pydantic=None, json_dict=None, tasks_output=[TaskOutput(description='Find the latest research papers and summarize key findings.', name='Gather Information', expected_output='A summary of key findings from recent research papers.', summary='Find the latest research papers and summarize key findings....', raw='Below are summaries of key findings from some of the latest research papers published in 2023:\\n\\n1. **Title:** \"Advancements in Quantum Computing Algorithms\"\\n   **Authors:** Smith, J. et al.\\n   **Publication:** Journal of Quantum Computing\\n   **Summary:** This paper discusses new algorithms that significantly improve the efficiency of quantum computations. The authors demonstrate a novel algorithm that reduces the time complexity of quantum search problems, allowing for faster processing of large datasets. The findings suggest that the proposed method could revolutionize fields such as cryptography and drug discovery by enabling more complex calculations.\\n\\n2. **Title:** \"The Impact of Climate Change on Global Biodiversity\"\\n   **Authors:** Johnson, L. & Wang, H.\\n   **Publication:** Ecology and Environment\\n   **Summary:** In this study, researchers assess the impact of climate change on various species\\' survival rates across different ecosystems. The paper presents data showing that rising temperatures and changing precipitation patterns have led to a decline in biodiversity, with amphibians being the most affected. The authors propose conservation strategies that focus on habitat preservation and restoration to mitigate these effects.\\n\\n3. **Title:** \"Artificial Intelligence in Healthcare: Transformations and Challenges\"\\n   **Authors:** Lee, M. et al.\\n   **Publication:** Health Informatics Journal\\n   **Summary:** This research explores the integration of AI technologies in healthcare settings, highlighting both the benefits and ethical challenges posed by their application. Key findings include improved diagnostic accuracy and patient outcomes but also emphasize concerns regarding data privacy and the need for regulatory frameworks. Recommendations include fostering interdisciplinary collaboration to maximize AI\\'s potential while addressing ethical issues.\\n\\n4. **Title:** \"Nanotechnology for Sustainable Energy Solutions\"\\n   **Authors:** Patel, R. & Kim, S.\\n   **Publication:** International Journal of Energy Research\\n   **Summary:** The paper reviews recent advancements in nanotechnology to enhance energy efficiency and sustainability. The authors outline innovative approaches to solar energy harnessing using nanomaterials that increase the surface area for light absorption. Experimental results indicate significant improvements in energy conversion rates, suggesting potential implications for renewable energy technology.\\n\\n5. **Title:** \"Mental Health in Adolescents: Effects of Social Media Usage\"\\n   **Authors:** Garcia, T. & Liu, P.\\n   **Publication:** Journal of Adolescent Health\\n   **Summary:** This study examines the correlation between social media usage and mental health outcomes in adolescents. The findings indicate that excessive social media engagement is linked to increased levels of anxiety and depression. The authors advocate for educational programs that promote healthy social media habits among youth to mitigate these mental health risks.\\n\\nThese papers reflect current trends in their respective fields and offer insights into ongoing research challenges and potential future directions.', pydantic=None, json_dict=None, agent='Researcher', output_format=<OutputFormat.RAW: 'raw'>), TaskOutput(description='Use summarized research to create a structured report.', name='Write Research Report', expected_output='A structured research report based on the summarized findings.', summary='Use summarized research to create a structured report....', raw=\"**Structured Research Report based on Summarized Findings (2023)**\\n\\n**1. Introduction**  \\nThis report summarizes key findings from recent research published in 2023, highlighting advancements in technology, climate change impacts, healthcare innovations, sustainable energy solutions, and mental health concerns related to social media usage. Each study presents significant implications for their respective domains, offering insights into challenges and future directions.\\n\\n**2. Advancements in Quantum Computing Algorithms**  \\n- **Authors:** Smith, J. et al.  \\n- **Publication:** Journal of Quantum Computing  \\n- **Findings:**  \\n  The paper details the development of new quantum algorithms that enhance computational efficiency. A novel algorithm is proposed, which significantly reduces the time complexity of quantum search problems, facilitating faster processing of large datasets.  \\n- **Implications:**  \\n  This breakthrough has the potential to transform essential fields such as cryptography and drug discovery by enabling more complex calculations, thus leading to advancements in security protocols and pharmaceutical development.\\n\\n**3. The Impact of Climate Change on Global Biodiversity**  \\n- **Authors:** Johnson, L. & Wang, H.  \\n- **Publication:** Ecology and Environment  \\n- **Findings:**  \\n  The research evaluates the effects of climate change on species survival rates, demonstrating that rising temperatures and altered precipitation patterns contribute to a notable decline in biodiversity, particularly affecting amphibian species.  \\n- **Conservation Strategies:**  \\n  The authors recommend strategies centered on habitat preservation and restoration to counteract these detrimental effects, emphasizing the urgency of proactive intervention in conservation efforts.\\n\\n**4. Artificial Intelligence in Healthcare: Transformations and Challenges**  \\n- **Authors:** Lee, M. et al.  \\n- **Publication:** Health Informatics Journal  \\n- **Findings:**  \\n  This study investigates the integration of AI technologies in healthcare, identifying impressive improvements in diagnostic accuracy and patient outcomes. However, it also highlights ethical challenges, including data privacy concerns and the necessity for proper regulatory frameworks.  \\n- **Recommendations:**  \\n  The authors suggest fostering interdisciplinary collaboration to maximize AI's implementation benefits while addressing ethical dilemmas, thus ensuring safe and effective healthcare solutions.\\n\\n**5. Nanotechnology for Sustainable Energy Solutions**  \\n- **Authors:** Patel, R. & Kim, S.  \\n- **Publication:** International Journal of Energy Research  \\n- **Findings:**  \\n  The research reviews advancements in nanotechnology aimed at improving energy efficiency and promoting sustainability. Notably, new nanomaterials have been developed to enhance solar energy conversion rates by increasing light absorption surface area.  \\n- **Potential Implications:**  \\n  These advancements can significantly influence renewable energy technologies, leading to more efficient and sustainable energy solutions.\\n\\n**6. Mental Health in Adolescents: Effects of Social Media Usage**  \\n- **Authors:** Garcia, T. & Liu, P.  \\n- **Publication:** Journal of Adolescent Health  \\n- **Findings:**  \\n  This study explores the relationship between social media usage and mental health among adolescents, revealing a correlation where excessive engagement with social media is linked to heightened levels of anxiety and depression.  \\n- **Advocacy for Educational Programs:**  \\n  The authors advocate for programs that educate youth on healthy social media habits, aiming to mitigate the negative mental health impacts associated with social media.\\n\\n**7. Conclusion**  \\nThe findings presented in these studies reflect critical advancements and challenges across various fields. From the transformative potential of quantum computing and AI in healthcare to the urgent conservation needs amid climate change and the mental health implications of social media, ongoing research is crucial for addressing contemporary issues and guiding future innovations. These insights not only underscore the complexities of current challenges but also pave the way for strategic developments that could improve societal well-being and technological progress.\", pydantic=None, json_dict=None, agent='Writer', output_format=<OutputFormat.RAW: 'raw'>), TaskOutput(description='Check the report for accuracy and clarity.', name='Review Report', expected_output='A reviewed and refined research report.', summary='Check the report for accuracy and clarity....', raw=\"**Structured Research Report based on Summarized Findings (2023)**\\n\\n**1. Introduction**  \\nThis report summarizes key findings from recent research published in 2023, highlighting advancements in technology, climate change impacts, healthcare innovations, sustainable energy solutions, and mental health concerns related to social media usage. Each study presents significant implications for their respective domains, offering insights into challenges and future directions.\\n\\n**2. Advancements in Quantum Computing Algorithms**  \\n- **Authors:** Smith, J. et al.  \\n- **Publication:** Journal of Quantum Computing  \\n- **Findings:**  \\n  The paper details the development of new quantum algorithms that enhance computational efficiency. A novel algorithm is proposed, which significantly reduces the time complexity of quantum search problems, facilitating faster processing of large datasets.  \\n- **Implications:**  \\n  This breakthrough has the potential to transform essential fields such as cryptography and drug discovery by enabling more complex calculations, thus leading to advancements in security protocols and pharmaceutical development.\\n\\n**3. The Impact of Climate Change on Global Biodiversity**  \\n- **Authors:** Johnson, L. & Wang, H.  \\n- **Publication:** Ecology and Environment  \\n- **Findings:**  \\n  The research evaluates the effects of climate change on species survival rates, demonstrating that rising temperatures and altered precipitation patterns contribute to a notable decline in biodiversity, particularly affecting amphibian species.  \\n- **Conservation Strategies:**  \\n  The authors recommend strategies centered on habitat preservation and restoration to counteract these detrimental effects, emphasizing the urgency of proactive intervention in conservation efforts.\\n\\n**4. Artificial Intelligence in Healthcare: Transformations and Challenges**  \\n- **Authors:** Lee, M. et al.  \\n- **Publication:** Health Informatics Journal  \\n- **Findings:**  \\n  This study investigates the integration of AI technologies in healthcare, identifying impressive improvements in diagnostic accuracy and patient outcomes. However, it also highlights ethical challenges, including data privacy concerns and the necessity for proper regulatory frameworks.  \\n- **Recommendations:**  \\n  The authors suggest fostering interdisciplinary collaboration to maximize AI's implementation benefits while addressing ethical dilemmas, thus ensuring safe and effective healthcare solutions.\\n\\n**5. Nanotechnology for Sustainable Energy Solutions**  \\n- **Authors:** Patel, R. & Kim, S.  \\n- **Publication:** International Journal of Energy Research  \\n- **Findings:**  \\n  The research reviews advancements in nanotechnology aimed at improving energy efficiency and promoting sustainability. Notably, new nanomaterials have been developed to enhance solar energy conversion rates by increasing light absorption surface area.  \\n- **Potential Implications:**  \\n  These advancements can significantly influence renewable energy technologies, leading to more efficient and sustainable energy solutions.\\n\\n**6. Mental Health in Adolescents: Effects of Social Media Usage**  \\n- **Authors:** Garcia, T. & Liu, P.  \\n- **Publication:** Journal of Adolescent Health  \\n- **Findings:**  \\n  This study explores the relationship between social media usage and mental health among adolescents, revealing a correlation where excessive engagement with social media is linked to heightened levels of anxiety and depression.  \\n- **Advocacy for Educational Programs:**  \\n  The authors advocate for programs that educate youth on healthy social media habits, aiming to mitigate the negative mental health impacts associated with social media.\\n\\n**7. Conclusion**  \\nThe findings presented in these studies reflect critical advancements and challenges across various fields. From the transformative potential of quantum computing and AI in healthcare to the urgent conservation needs amid climate change and the mental health implications of social media, ongoing research is crucial for addressing contemporary issues and guiding future innovations. These insights not only underscore the complexities of current challenges but also pave the way for strategic developments that could improve societal well-being and technological progress.\", pydantic=None, json_dict=None, agent='Reviewer', output_format=<OutputFormat.RAW: 'raw'>)], token_usage=UsageMetrics(total_tokens=4448, prompt_tokens=2376, cached_prompt_tokens=0, completion_tokens=2072, successful_requests=3))"
            ]
          },
          "metadata": {},
          "execution_count": 23
        }
      ]
    }
  ]
}